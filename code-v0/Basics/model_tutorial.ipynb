{
 "cells": [
  {
   "cell_type": "code",
   "execution_count": 1,
   "metadata": {},
   "outputs": [
    {
     "name": "stdout",
     "output_type": "stream",
     "text": [
      "Using cuda device\n"
     ]
    }
   ],
   "source": [
    "import os\n",
    "import torch\n",
    "from torch import nn\n",
    "from torch.utils.data import DataLoader\n",
    "from torchvision import datasets, transforms\n",
    "\n",
    "device = \"cuda\" if torch.cuda.is_available() else \"cpu\"\n",
    "print(f\"Using {device} device\")"
   ]
  },
  {
   "cell_type": "code",
   "execution_count": 2,
   "metadata": {},
   "outputs": [
    {
     "name": "stdout",
     "output_type": "stream",
     "text": [
      "NeuralNetwork(\n",
      "  (flatten): Flatten(start_dim=1, end_dim=-1)\n",
      "  (linear_relu_stack): Sequential(\n",
      "    (0): Linear(in_features=784, out_features=512, bias=True)\n",
      "    (1): ReLU()\n",
      "    (2): Linear(in_features=512, out_features=512, bias=True)\n",
      "    (3): ReLU()\n",
      "    (4): Linear(in_features=512, out_features=10, bias=True)\n",
      "  )\n",
      ")\n"
     ]
    }
   ],
   "source": [
    "class NeuralNetwork(nn.Module):\n",
    "    def __init__(self):\n",
    "        super(NeuralNetwork, self).__init__()\n",
    "        self.flatten = nn.Flatten()\n",
    "        self.linear_relu_stack = nn.Sequential(\n",
    "            nn.Linear(28*28, 512),\n",
    "            nn.ReLU(),\n",
    "            nn.Linear(512, 512),\n",
    "            nn.ReLU(),\n",
    "            nn.Linear(512, 10)\n",
    "        )\n",
    "        \n",
    "    def forward(self, x):\n",
    "        x = self.flatten(x)\n",
    "        logits = self.linear_relu_stack(x)\n",
    "        return logits\n",
    "    \n",
    "model = NeuralNetwork().to(device)\n",
    "print(model)"
   ]
  },
  {
   "cell_type": "code",
   "execution_count": 3,
   "metadata": {},
   "outputs": [
    {
     "name": "stdout",
     "output_type": "stream",
     "text": [
      "Predicted class: tensor([4], device='cuda:0')\n"
     ]
    }
   ],
   "source": [
    "X = torch.rand(1, 28, 28, device=device)\n",
    "logits = model(X)\n",
    "pred_probab = nn.Softmax(dim=1)(logits)\n",
    "y_pred = pred_probab.argmax(1)\n",
    "print(f\"Predicted class: {y_pred}\")"
   ]
  },
  {
   "cell_type": "code",
   "execution_count": 4,
   "metadata": {},
   "outputs": [
    {
     "name": "stdout",
     "output_type": "stream",
     "text": [
      "torch.Size([3, 28, 28])\n"
     ]
    }
   ],
   "source": [
    "input_image = torch.rand(3, 28, 28)\n",
    "print(input_image.size())"
   ]
  },
  {
   "cell_type": "code",
   "execution_count": 5,
   "metadata": {},
   "outputs": [
    {
     "name": "stdout",
     "output_type": "stream",
     "text": [
      "torch.Size([3, 784])\n"
     ]
    }
   ],
   "source": [
    "flatten = nn.Flatten()\n",
    "flat_image = flatten(input_image)\n",
    "print(flat_image.size())"
   ]
  },
  {
   "cell_type": "code",
   "execution_count": 6,
   "metadata": {},
   "outputs": [
    {
     "name": "stdout",
     "output_type": "stream",
     "text": [
      "torch.Size([3, 20])\n"
     ]
    }
   ],
   "source": [
    "layer1 = nn.Linear(in_features=28*28, out_features=20)\n",
    "hidden1 = layer1(flat_image)\n",
    "print(hidden1.size())"
   ]
  },
  {
   "cell_type": "code",
   "execution_count": 7,
   "metadata": {},
   "outputs": [
    {
     "name": "stdout",
     "output_type": "stream",
     "text": [
      "Before ReLU: tensor([[-1.7296e-01,  1.1119e-01,  3.3084e-01, -2.0164e-01,  1.3832e-01,\n",
      "         -7.0031e-01,  1.5829e-01, -2.3841e-01,  2.0881e-01, -6.5979e-02,\n",
      "         -1.8007e-01, -3.3127e-01,  3.0536e-01,  1.4653e-01, -4.2480e-01,\n",
      "         -2.0498e-01, -2.3002e-01, -3.0111e-01,  6.5770e-01, -5.4459e-01],\n",
      "        [-2.3032e-02,  2.4085e-02,  2.6553e-01,  7.8191e-02, -2.3790e-01,\n",
      "         -7.0391e-01,  8.7228e-04,  1.7164e-01,  4.3313e-01, -2.3205e-02,\n",
      "         -6.4675e-02,  3.5766e-01,  4.0510e-01,  1.1084e-01, -2.5826e-01,\n",
      "         -2.4297e-01, -2.9458e-01, -2.0594e-01,  1.0095e+00, -5.1315e-01],\n",
      "        [ 9.4626e-03,  1.6298e-01,  1.4243e-02,  2.7308e-02,  3.2181e-01,\n",
      "         -8.1375e-01,  8.8218e-02,  1.9835e-01,  3.4593e-01, -1.0166e-01,\n",
      "          1.6801e-01, -8.8549e-02,  4.4792e-01,  1.2947e-01, -4.7639e-01,\n",
      "          4.9100e-02, -3.2299e-01, -1.7702e-02,  9.3972e-01, -3.4021e-01]],\n",
      "       grad_fn=<AddmmBackward0>)\n",
      "\n",
      "\n",
      "After ReLU: tensor([[0.0000e+00, 1.1119e-01, 3.3084e-01, 0.0000e+00, 1.3832e-01, 0.0000e+00,\n",
      "         1.5829e-01, 0.0000e+00, 2.0881e-01, 0.0000e+00, 0.0000e+00, 0.0000e+00,\n",
      "         3.0536e-01, 1.4653e-01, 0.0000e+00, 0.0000e+00, 0.0000e+00, 0.0000e+00,\n",
      "         6.5770e-01, 0.0000e+00],\n",
      "        [0.0000e+00, 2.4085e-02, 2.6553e-01, 7.8191e-02, 0.0000e+00, 0.0000e+00,\n",
      "         8.7228e-04, 1.7164e-01, 4.3313e-01, 0.0000e+00, 0.0000e+00, 3.5766e-01,\n",
      "         4.0510e-01, 1.1084e-01, 0.0000e+00, 0.0000e+00, 0.0000e+00, 0.0000e+00,\n",
      "         1.0095e+00, 0.0000e+00],\n",
      "        [9.4626e-03, 1.6298e-01, 1.4243e-02, 2.7308e-02, 3.2181e-01, 0.0000e+00,\n",
      "         8.8218e-02, 1.9835e-01, 3.4593e-01, 0.0000e+00, 1.6801e-01, 0.0000e+00,\n",
      "         4.4792e-01, 1.2947e-01, 0.0000e+00, 4.9100e-02, 0.0000e+00, 0.0000e+00,\n",
      "         9.3972e-01, 0.0000e+00]], grad_fn=<ReluBackward0>)\n"
     ]
    }
   ],
   "source": [
    "print(f\"Before ReLU: {hidden1}\\n\\n\")\n",
    "hidden1 = nn.ReLU()(hidden1)\n",
    "print(f\"After ReLU: {hidden1}\")"
   ]
  },
  {
   "cell_type": "code",
   "execution_count": 8,
   "metadata": {},
   "outputs": [
    {
     "name": "stdout",
     "output_type": "stream",
     "text": [
      "torch.Size([3, 10])\n"
     ]
    }
   ],
   "source": [
    "seq_modules = nn.Sequential(\n",
    "    flatten,\n",
    "    layer1,\n",
    "    nn.ReLU(),\n",
    "    nn.Linear(20, 10)\n",
    ")\n",
    "\n",
    "input_image = torch.rand(3, 28, 28)\n",
    "logits = seq_modules(input_image)\n",
    "print(logits.shape)"
   ]
  },
  {
   "cell_type": "code",
   "execution_count": 9,
   "metadata": {},
   "outputs": [
    {
     "name": "stdout",
     "output_type": "stream",
     "text": [
      "tensor([[0.0575, 0.1559, 0.1131, 0.0578, 0.0908, 0.1116, 0.1161, 0.0765, 0.1055,\n",
      "         0.1151],\n",
      "        [0.0606, 0.1401, 0.1111, 0.0571, 0.0861, 0.1212, 0.1195, 0.0706, 0.1077,\n",
      "         0.1260],\n",
      "        [0.0679, 0.1460, 0.1100, 0.0637, 0.0846, 0.1173, 0.1135, 0.0840, 0.1055,\n",
      "         0.1075]], grad_fn=<SoftmaxBackward0>)\n"
     ]
    }
   ],
   "source": [
    "softmax = nn.Softmax(dim=1)\n",
    "pred_probab = softmax(logits)\n",
    "print(pred_probab)"
   ]
  },
  {
   "cell_type": "code",
   "execution_count": 10,
   "metadata": {},
   "outputs": [
    {
     "name": "stdout",
     "output_type": "stream",
     "text": [
      "Model Structure: NeuralNetwork(\n",
      "  (flatten): Flatten(start_dim=1, end_dim=-1)\n",
      "  (linear_relu_stack): Sequential(\n",
      "    (0): Linear(in_features=784, out_features=512, bias=True)\n",
      "    (1): ReLU()\n",
      "    (2): Linear(in_features=512, out_features=512, bias=True)\n",
      "    (3): ReLU()\n",
      "    (4): Linear(in_features=512, out_features=10, bias=True)\n",
      "  )\n",
      ")\n",
      "\n",
      "\n",
      "Layer: linear_relu_stack.0.weight | Size: torch.Size([512, 784]) | Values: tensor([[-0.0047, -0.0033,  0.0207,  ..., -0.0341, -0.0246,  0.0338],\n",
      "        [ 0.0079, -0.0156,  0.0121,  ..., -0.0135,  0.0101, -0.0201]],\n",
      "       device='cuda:0', grad_fn=<SliceBackward0>) \n",
      "\n",
      "Layer: linear_relu_stack.0.bias | Size: torch.Size([512]) | Values: tensor([-0.0045,  0.0179], device='cuda:0', grad_fn=<SliceBackward0>) \n",
      "\n",
      "Layer: linear_relu_stack.2.weight | Size: torch.Size([512, 512]) | Values: tensor([[ 0.0347,  0.0254,  0.0270,  ...,  0.0308,  0.0332, -0.0246],\n",
      "        [ 0.0349,  0.0386,  0.0352,  ...,  0.0092, -0.0384,  0.0138]],\n",
      "       device='cuda:0', grad_fn=<SliceBackward0>) \n",
      "\n",
      "Layer: linear_relu_stack.2.bias | Size: torch.Size([512]) | Values: tensor([-0.0245, -0.0261], device='cuda:0', grad_fn=<SliceBackward0>) \n",
      "\n",
      "Layer: linear_relu_stack.4.weight | Size: torch.Size([10, 512]) | Values: tensor([[-0.0086, -0.0356,  0.0400,  ...,  0.0061,  0.0218, -0.0306],\n",
      "        [-0.0146,  0.0282,  0.0275,  ...,  0.0124, -0.0047, -0.0038]],\n",
      "       device='cuda:0', grad_fn=<SliceBackward0>) \n",
      "\n",
      "Layer: linear_relu_stack.4.bias | Size: torch.Size([10]) | Values: tensor([-0.0298,  0.0144], device='cuda:0', grad_fn=<SliceBackward0>) \n",
      "\n"
     ]
    }
   ],
   "source": [
    "print(f\"Model Structure: {model}\\n\\n\")\n",
    "\n",
    "for name, param in model.named_parameters():\n",
    "    print(f\"Layer: {name} | Size: {param.size()} | Values: {param[:2]} \\n\")"
   ]
  }
 ],
 "metadata": {
  "kernelspec": {
   "display_name": "base",
   "language": "python",
   "name": "python3"
  },
  "language_info": {
   "codemirror_mode": {
    "name": "ipython",
    "version": 3
   },
   "file_extension": ".py",
   "mimetype": "text/x-python",
   "name": "python",
   "nbconvert_exporter": "python",
   "pygments_lexer": "ipython3",
   "version": "3.9.13"
  },
  "orig_nbformat": 4,
  "vscode": {
   "interpreter": {
    "hash": "b09ec625f77bf4fd762565a912b97636504ad6ec901eb2d0f4cf5a7de23e1ee5"
   }
  }
 },
 "nbformat": 4,
 "nbformat_minor": 2
}
